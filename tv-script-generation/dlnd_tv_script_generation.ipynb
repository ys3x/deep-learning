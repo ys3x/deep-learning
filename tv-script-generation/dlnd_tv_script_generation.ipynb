{
 "cells": [
  {
   "cell_type": "markdown",
   "metadata": {},
   "source": [
    "# TV Script Generation\n",
    "In this project, you'll generate your own [Simpsons](https://en.wikipedia.org/wiki/The_Simpsons) TV scripts using RNNs.  You'll be using part of the [Simpsons dataset](https://www.kaggle.com/wcukierski/the-simpsons-by-the-data) of scripts from 27 seasons.  The Neural Network you'll build will generate a new TV script for a scene at [Moe's Tavern](https://simpsonswiki.com/wiki/Moe's_Tavern).\n",
    "## Get the Data\n",
    "The data is already provided for you.  You'll be using a subset of the original dataset.  It consists of only the scenes in Moe's Tavern.  This doesn't include other versions of the tavern, like \"Moe's Cavern\", \"Flaming Moe's\", \"Uncle Moe's Family Feed-Bag\", etc.."
   ]
  },
  {
   "cell_type": "code",
   "execution_count": 1,
   "metadata": {},
   "outputs": [],
   "source": [
    "\"\"\"\n",
    "DON'T MODIFY ANYTHING IN THIS CELL\n",
    "\"\"\"\n",
    "import helper\n",
    "\n",
    "data_dir = './data/simpsons/moes_tavern_lines.txt'\n",
    "text = helper.load_data(data_dir)\n",
    "# Ignore notice, since we don't use it for analysing the data\n",
    "text = text[81:]"
   ]
  },
  {
   "cell_type": "markdown",
   "metadata": {},
   "source": [
    "## Explore the Data\n",
    "Play around with `view_sentence_range` to view different parts of the data."
   ]
  },
  {
   "cell_type": "code",
   "execution_count": 2,
   "metadata": {},
   "outputs": [
    {
     "name": "stdout",
     "output_type": "stream",
     "text": [
      "Dataset Stats\n",
      "Roughly the number of unique words: 11492\n",
      "Number of scenes: 262\n",
      "Average number of sentences in each scene: 15.248091603053435\n",
      "Number of lines: 4257\n",
      "Average number of words in each line: 11.50434578341555\n",
      "\n",
      "The sentences 0 to 10:\n",
      "Moe_Szyslak: (INTO PHONE) Moe's Tavern. Where the elite meet to drink.\n",
      "Bart_Simpson: Eh, yeah, hello, is Mike there? Last name, Rotch.\n",
      "Moe_Szyslak: (INTO PHONE) Hold on, I'll check. (TO BARFLIES) Mike Rotch. Mike Rotch. Hey, has anybody seen Mike Rotch, lately?\n",
      "Moe_Szyslak: (INTO PHONE) Listen you little puke. One of these days I'm gonna catch you, and I'm gonna carve my name on your back with an ice pick.\n",
      "Moe_Szyslak: What's the matter Homer? You're not your normal effervescent self.\n",
      "Homer_Simpson: I got my problems, Moe. Give me another one.\n",
      "Moe_Szyslak: Homer, hey, you should not drink to forget your problems.\n",
      "Barney_Gumble: Yeah, you should only drink to enhance your social skills.\n",
      "\n",
      "\n"
     ]
    }
   ],
   "source": [
    "view_sentence_range = (0, 10)\n",
    "\n",
    "\"\"\"\n",
    "DON'T MODIFY ANYTHING IN THIS CELL\n",
    "\"\"\"\n",
    "import numpy as np\n",
    "\n",
    "print('Dataset Stats')\n",
    "print('Roughly the number of unique words: {}'.format(len({word: None for word in text.split()})))\n",
    "scenes = text.split('\\n\\n')\n",
    "print('Number of scenes: {}'.format(len(scenes)))\n",
    "sentence_count_scene = [scene.count('\\n') for scene in scenes]\n",
    "print('Average number of sentences in each scene: {}'.format(np.average(sentence_count_scene)))\n",
    "\n",
    "sentences = [sentence for scene in scenes for sentence in scene.split('\\n')]\n",
    "print('Number of lines: {}'.format(len(sentences)))\n",
    "word_count_sentence = [len(sentence.split()) for sentence in sentences]\n",
    "print('Average number of words in each line: {}'.format(np.average(word_count_sentence)))\n",
    "\n",
    "print()\n",
    "print('The sentences {} to {}:'.format(*view_sentence_range))\n",
    "print('\\n'.join(text.split('\\n')[view_sentence_range[0]:view_sentence_range[1]]))"
   ]
  },
  {
   "cell_type": "markdown",
   "metadata": {},
   "source": [
    "## Implement Preprocessing Functions\n",
    "The first thing to do to any dataset is preprocessing.  Implement the following preprocessing functions below:\n",
    "- Lookup Table\n",
    "- Tokenize Punctuation\n",
    "\n",
    "### Lookup Table\n",
    "To create a word embedding, you first need to transform the words to ids.  In this function, create two dictionaries:\n",
    "- Dictionary to go from the words to an id, we'll call `vocab_to_int`\n",
    "- Dictionary to go from the id to word, we'll call `int_to_vocab`\n",
    "\n",
    "Return these dictionaries in the following tuple `(vocab_to_int, int_to_vocab)`"
   ]
  },
  {
   "cell_type": "code",
   "execution_count": 3,
   "metadata": {},
   "outputs": [
    {
     "name": "stdout",
     "output_type": "stream",
     "text": [
      "Tests Passed\n"
     ]
    }
   ],
   "source": [
    "import numpy as np\n",
    "import problem_unittests as tests\n",
    "\n",
    "def create_lookup_tables(text):\n",
    "    \"\"\"\n",
    "    Create lookup tables for vocabulary\n",
    "    :param text: The text of tv scripts split into words\n",
    "    :return: A tuple of dicts (vocab_to_int, int_to_vocab)\n",
    "    \"\"\"\n",
    "    # TODO: Implement Function\n",
    "    word_list = sorted(set(text))\n",
    "    vocab_to_int = {word: idx for idx, word in enumerate(word_list)}\n",
    "    int_to_vocab = {idx: word for idx, word in enumerate(word_list)}\n",
    "    return (vocab_to_int, int_to_vocab)\n",
    "\n",
    "\n",
    "\"\"\"\n",
    "DON'T MODIFY ANYTHING IN THIS CELL THAT IS BELOW THIS LINE\n",
    "\"\"\"\n",
    "tests.test_create_lookup_tables(create_lookup_tables)"
   ]
  },
  {
   "cell_type": "markdown",
   "metadata": {},
   "source": [
    "### Tokenize Punctuation\n",
    "We'll be splitting the script into a word array using spaces as delimiters.  However, punctuations like periods and exclamation marks make it hard for the neural network to distinguish between the word \"bye\" and \"bye!\".\n",
    "\n",
    "Implement the function `token_lookup` to return a dict that will be used to tokenize symbols like \"!\" into \"||Exclamation_Mark||\".  Create a dictionary for the following symbols where the symbol is the key and value is the token:\n",
    "- Period ( . )\n",
    "- Comma ( , )\n",
    "- Quotation Mark ( \" )\n",
    "- Semicolon ( ; )\n",
    "- Exclamation mark ( ! )\n",
    "- Question mark ( ? )\n",
    "- Left Parentheses ( ( )\n",
    "- Right Parentheses ( ) )\n",
    "- Dash ( -- )\n",
    "- Return ( \\n )\n",
    "\n",
    "This dictionary will be used to token the symbols and add the delimiter (space) around it.  This separates the symbols as it's own word, making it easier for the neural network to predict on the next word. Make sure you don't use a token that could be confused as a word. Instead of using the token \"dash\", try using something like \"||dash||\"."
   ]
  },
  {
   "cell_type": "code",
   "execution_count": 4,
   "metadata": {},
   "outputs": [
    {
     "name": "stdout",
     "output_type": "stream",
     "text": [
      "Tests Passed\n"
     ]
    }
   ],
   "source": [
    "def token_lookup():\n",
    "    \"\"\"\n",
    "    Generate a dict to turn punctuation into a token.\n",
    "    :return: Tokenize dictionary where the key is the punctuation and the value is the token\n",
    "    \"\"\"\n",
    "    # TODO: Implement Function\n",
    "    lookup_table = {\n",
    "        '.':  '||Period||',\n",
    "        ',':  '||Comma||',\n",
    "        '\"':  '||Quotation_Mark||',\n",
    "        ';':  '||Question_Mark||',\n",
    "        '!':  '||Exclamation_Mark||',\n",
    "        '?':  '||Question_Mark||',\n",
    "        '(':  '||Left_Parentheses||',\n",
    "        ')':  '||Right_Parentheses||',\n",
    "        '--': '||Dash||',\n",
    "        '\\n': '||Return||',\n",
    "    }\n",
    "    return lookup_table\n",
    "\n",
    "\"\"\"\n",
    "DON'T MODIFY ANYTHING IN THIS CELL THAT IS BELOW THIS LINE\n",
    "\"\"\"\n",
    "tests.test_tokenize(token_lookup)"
   ]
  },
  {
   "cell_type": "markdown",
   "metadata": {},
   "source": [
    "## Preprocess all the data and save it\n",
    "Running the code cell below will preprocess all the data and save it to file."
   ]
  },
  {
   "cell_type": "code",
   "execution_count": 5,
   "metadata": {},
   "outputs": [],
   "source": [
    "\"\"\"\n",
    "DON'T MODIFY ANYTHING IN THIS CELL\n",
    "\"\"\"\n",
    "# Preprocess Training, Validation, and Testing Data\n",
    "helper.preprocess_and_save_data(data_dir, token_lookup, create_lookup_tables)"
   ]
  },
  {
   "cell_type": "markdown",
   "metadata": {},
   "source": [
    "# Check Point\n",
    "This is your first checkpoint. If you ever decide to come back to this notebook or have to restart the notebook, you can start from here. The preprocessed data has been saved to disk."
   ]
  },
  {
   "cell_type": "code",
   "execution_count": 6,
   "metadata": {},
   "outputs": [],
   "source": [
    "\"\"\"\n",
    "DON'T MODIFY ANYTHING IN THIS CELL\n",
    "\"\"\"\n",
    "import helper\n",
    "import numpy as np\n",
    "import problem_unittests as tests\n",
    "\n",
    "int_text, vocab_to_int, int_to_vocab, token_dict = helper.load_preprocess()"
   ]
  },
  {
   "cell_type": "markdown",
   "metadata": {},
   "source": [
    "## Build the Neural Network\n",
    "You'll build the components necessary to build a RNN by implementing the following functions below:\n",
    "- get_inputs\n",
    "- get_init_cell\n",
    "- get_embed\n",
    "- build_rnn\n",
    "- build_nn\n",
    "- get_batches\n",
    "\n",
    "### Check the Version of TensorFlow and Access to GPU"
   ]
  },
  {
   "cell_type": "code",
   "execution_count": 7,
   "metadata": {},
   "outputs": [
    {
     "name": "stdout",
     "output_type": "stream",
     "text": [
      "TensorFlow Version: 1.3.0\n",
      "Default GPU Device: /gpu:0\n"
     ]
    }
   ],
   "source": [
    "\"\"\"\n",
    "DON'T MODIFY ANYTHING IN THIS CELL\n",
    "\"\"\"\n",
    "from distutils.version import LooseVersion\n",
    "import warnings\n",
    "import tensorflow as tf\n",
    "\n",
    "# Check TensorFlow Version\n",
    "assert LooseVersion(tf.__version__) >= LooseVersion('1.3'), 'Please use TensorFlow version 1.3 or newer'\n",
    "print('TensorFlow Version: {}'.format(tf.__version__))\n",
    "\n",
    "# Check for a GPU\n",
    "if not tf.test.gpu_device_name():\n",
    "    warnings.warn('No GPU found. Please use a GPU to train your neural network.')\n",
    "else:\n",
    "    print('Default GPU Device: {}'.format(tf.test.gpu_device_name()))"
   ]
  },
  {
   "cell_type": "markdown",
   "metadata": {},
   "source": [
    "### Input\n",
    "Implement the `get_inputs()` function to create TF Placeholders for the Neural Network.  It should create the following placeholders:\n",
    "- Input text placeholder named \"input\" using the [TF Placeholder](https://www.tensorflow.org/api_docs/python/tf/placeholder) `name` parameter.\n",
    "- Targets placeholder\n",
    "- Learning Rate placeholder\n",
    "\n",
    "Return the placeholders in the following tuple `(Input, Targets, LearningRate)`"
   ]
  },
  {
   "cell_type": "code",
   "execution_count": 8,
   "metadata": {},
   "outputs": [
    {
     "name": "stdout",
     "output_type": "stream",
     "text": [
      "Tests Passed\n"
     ]
    }
   ],
   "source": [
    "def get_inputs():\n",
    "    \"\"\"\n",
    "    Create TF Placeholders for input, targets, and learning rate.\n",
    "    :return: Tuple (input, targets, learning rate)\n",
    "    \"\"\"\n",
    "    # TODO: Implement Function\n",
    "    input_data = tf.placeholder(tf.int32, [None, None], name='input')\n",
    "    targets = tf.placeholder(tf.int32, [None, None], name='targets')\n",
    "    lr = tf.placeholder(tf.float32, name='learning_rate')\n",
    "    \n",
    "    return (input_data, targets, lr)\n",
    "\n",
    "\"\"\"\n",
    "DON'T MODIFY ANYTHING IN THIS CELL THAT IS BELOW THIS LINE\n",
    "\"\"\"\n",
    "tests.test_get_inputs(get_inputs)"
   ]
  },
  {
   "cell_type": "markdown",
   "metadata": {},
   "source": [
    "### Build RNN Cell and Initialize\n",
    "Stack one or more [`BasicLSTMCells`](https://www.tensorflow.org/api_docs/python/tf/contrib/rnn/BasicLSTMCell) in a [`MultiRNNCell`](https://www.tensorflow.org/api_docs/python/tf/contrib/rnn/MultiRNNCell).\n",
    "- The Rnn size should be set using `rnn_size`\n",
    "- Initalize Cell State using the MultiRNNCell's [`zero_state()`](https://www.tensorflow.org/api_docs/python/tf/contrib/rnn/MultiRNNCell#zero_state) function\n",
    "    - Apply the name \"initial_state\" to the initial state using [`tf.identity()`](https://www.tensorflow.org/api_docs/python/tf/identity)\n",
    "\n",
    "Return the cell and initial state in the following tuple `(Cell, InitialState)`"
   ]
  },
  {
   "cell_type": "code",
   "execution_count": 9,
   "metadata": {},
   "outputs": [
    {
     "name": "stdout",
     "output_type": "stream",
     "text": [
      "Tests Passed\n"
     ]
    }
   ],
   "source": [
    "def get_init_cell(batch_size, rnn_size):\n",
    "    \"\"\"\n",
    "    Create an RNN Cell and initialize it.\n",
    "    :param batch_size: Size of batches\n",
    "    :param rnn_size: Size of RNNs\n",
    "    :return: Tuple (cell, initialize state)\n",
    "    \"\"\"\n",
    "    # TODO: Implement Function\n",
    "    lstm1 = tf.contrib.rnn.BasicLSTMCell(rnn_size)\n",
    "    lstm2 = tf.contrib.rnn.BasicLSTMCell(rnn_size)\n",
    "    cell = tf.contrib.rnn.MultiRNNCell([lstm1, lstm2])\n",
    "    initial_state = cell.zero_state(batch_size, tf.float32)\n",
    "    initial_state = tf.identity(initial_state, name='initial_state')\n",
    "\n",
    "    return (cell, initial_state)\n",
    "\n",
    "\n",
    "\"\"\"\n",
    "DON'T MODIFY ANYTHING IN THIS CELL THAT IS BELOW THIS LINE\n",
    "\"\"\"\n",
    "tests.test_get_init_cell(get_init_cell)"
   ]
  },
  {
   "cell_type": "markdown",
   "metadata": {},
   "source": [
    "### Word Embedding\n",
    "Apply embedding to `input_data` using TensorFlow.  Return the embedded sequence."
   ]
  },
  {
   "cell_type": "code",
   "execution_count": 10,
   "metadata": {},
   "outputs": [
    {
     "name": "stdout",
     "output_type": "stream",
     "text": [
      "Tests Passed\n"
     ]
    }
   ],
   "source": [
    "def get_embed(input_data, vocab_size, embed_dim):\n",
    "    \"\"\"\n",
    "    Create embedding for <input_data>.\n",
    "    :param input_data: TF placeholder for text input.\n",
    "    :param vocab_size: Number of words in vocabulary.\n",
    "    :param embed_dim: Number of embedding dimensions\n",
    "    :return: Embedded input.\n",
    "    \"\"\"\n",
    "    # TODO: Implement Function\n",
    "    embeddings = tf.Variable(tf.random_uniform((vocab_size, embed_dim), -1, 1))\n",
    "    embedded_input = tf.nn.embedding_lookup(embeddings, input_data)\n",
    "    return embedded_input\n",
    "\n",
    "\n",
    "\"\"\"\n",
    "DON'T MODIFY ANYTHING IN THIS CELL THAT IS BELOW THIS LINE\n",
    "\"\"\"\n",
    "tests.test_get_embed(get_embed)"
   ]
  },
  {
   "cell_type": "markdown",
   "metadata": {},
   "source": [
    "### Build RNN\n",
    "You created a RNN Cell in the `get_init_cell()` function.  Time to use the cell to create a RNN.\n",
    "- Build the RNN using the [`tf.nn.dynamic_rnn()`](https://www.tensorflow.org/api_docs/python/tf/nn/dynamic_rnn)\n",
    " - Apply the name \"final_state\" to the final state using [`tf.identity()`](https://www.tensorflow.org/api_docs/python/tf/identity)\n",
    "\n",
    "Return the outputs and final_state state in the following tuple `(Outputs, FinalState)` "
   ]
  },
  {
   "cell_type": "code",
   "execution_count": 11,
   "metadata": {},
   "outputs": [
    {
     "name": "stdout",
     "output_type": "stream",
     "text": [
      "Tests Passed\n"
     ]
    }
   ],
   "source": [
    "def build_rnn(cell, inputs):\n",
    "    \"\"\"\n",
    "    Create a RNN using a RNN Cell\n",
    "    :param cell: RNN Cell\n",
    "    :param inputs: Input text data\n",
    "    :return: Tuple (Outputs, Final State)\n",
    "    \"\"\"\n",
    "    # TODO: Implement Function\n",
    "    outputs, final_state = tf.nn.dynamic_rnn(cell, inputs, dtype=tf.float32) #XXX: state initialized in every path?!\n",
    "    final_state = tf.identity(final_state, name='final_state')\n",
    "    return (outputs, final_state)\n",
    "\n",
    "\n",
    "\"\"\"\n",
    "DON'T MODIFY ANYTHING IN THIS CELL THAT IS BELOW THIS LINE\n",
    "\"\"\"\n",
    "tests.test_build_rnn(build_rnn)"
   ]
  },
  {
   "cell_type": "markdown",
   "metadata": {},
   "source": [
    "### Build the Neural Network\n",
    "Apply the functions you implemented above to:\n",
    "- Apply embedding to `input_data` using your `get_embed(input_data, vocab_size, embed_dim)` function.\n",
    "- Build RNN using `cell` and your `build_rnn(cell, inputs)` function.\n",
    "- Apply a fully connected layer with a linear activation and `vocab_size` as the number of outputs.\n",
    "\n",
    "Return the logits and final state in the following tuple (Logits, FinalState) "
   ]
  },
  {
   "cell_type": "code",
   "execution_count": 12,
   "metadata": {},
   "outputs": [
    {
     "name": "stdout",
     "output_type": "stream",
     "text": [
      "Tests Passed\n"
     ]
    }
   ],
   "source": [
    "def build_nn(cell, rnn_size, input_data, vocab_size, embed_dim):\n",
    "    \"\"\"\n",
    "    Build part of the neural network\n",
    "    :param cell: RNN cell\n",
    "    :param rnn_size: Size of rnns\n",
    "    :param input_data: Input data\n",
    "    :param vocab_size: Vocabulary size\n",
    "    :param embed_dim: Number of embedding dimensions\n",
    "    :return: Tuple (Logits, FinalState)\n",
    "    \"\"\"\n",
    "    # TODO: Implement Function\n",
    "    embedded_input = get_embed(input_data, vocab_size, embed_dim)\n",
    "    outputs, final_state = build_rnn(cell, embedded_input) #outputs: (batch_size, num_sequence)\n",
    "    \n",
    "    logits = tf.contrib.layers.fully_connected(outputs, vocab_size, activation_fn=None)\n",
    "    \n",
    "    return (logits, final_state)\n",
    "\n",
    "\n",
    "\"\"\"\n",
    "DON'T MODIFY ANYTHING IN THIS CELL THAT IS BELOW THIS LINE\n",
    "\"\"\"\n",
    "tests.test_build_nn(build_nn)"
   ]
  },
  {
   "cell_type": "markdown",
   "metadata": {},
   "source": [
    "### Batches\n",
    "Implement `get_batches` to create batches of input and targets using `int_text`.  The batches should be a Numpy array with the shape `(number of batches, 2, batch size, sequence length)`. Each batch contains two elements:\n",
    "- The first element is a single batch of **input** with the shape `[batch size, sequence length]`\n",
    "- The second element is a single batch of **targets** with the shape `[batch size, sequence length]`\n",
    "\n",
    "If you can't fill the last batch with enough data, drop the last batch.\n",
    "\n",
    "For example, `get_batches([1, 2, 3, 4, 5, 6, 7, 8, 9, 10, 11, 12, 13, 14, 15, 16, 17, 18, 19, 20], 3, 2)` would return a Numpy array of the following:\n",
    "```\n",
    "[\n",
    "  # First Batch\n",
    "  [\n",
    "    # Batch of Input\n",
    "    [[ 1  2], [ 7  8], [13 14]]\n",
    "    # Batch of targets\n",
    "    [[ 2  3], [ 8  9], [14 15]]\n",
    "  ]\n",
    "\n",
    "  # Second Batch\n",
    "  [\n",
    "    # Batch of Input\n",
    "    [[ 3  4], [ 9 10], [15 16]]\n",
    "    # Batch of targets\n",
    "    [[ 4  5], [10 11], [16 17]]\n",
    "  ]\n",
    "\n",
    "  # Third Batch\n",
    "  [\n",
    "    # Batch of Input\n",
    "    [[ 5  6], [11 12], [17 18]]\n",
    "    # Batch of targets\n",
    "    [[ 6  7], [12 13], [18  1]]\n",
    "  ]\n",
    "]\n",
    "```\n",
    "\n",
    "Notice that the last target value in the last batch is the first input value of the first batch. In this case, `1`. This is a common technique used when creating sequence batches, although it is rather unintuitive."
   ]
  },
  {
   "cell_type": "code",
   "execution_count": 13,
   "metadata": {},
   "outputs": [
    {
     "name": "stdout",
     "output_type": "stream",
     "text": [
      "Tests Passed\n"
     ]
    }
   ],
   "source": [
    "def get_batches(int_text, batch_size, seq_length):\n",
    "    \"\"\"\n",
    "    Return batches of input and target\n",
    "    :param int_text: Text with the words replaced by their ids\n",
    "    :param batch_size: The size of batch\n",
    "    :param seq_length: The length of sequence\n",
    "    :return: Batches as a Numpy array\n",
    "    \"\"\"\n",
    "    # TODO: Implement Function\n",
    "    batch_len = seq_length * batch_size                           #  element-wise length per one batch\n",
    "    total_batch_count = len(int_text) // batch_len                # total number of batches\n",
    "\n",
    "    input_text = np.array(int_text[:total_batch_count * batch_len]) # delete unused tail\n",
    "    target_text = np.roll(input_text, -1, axis=0)                   # shift to the left: y[t] =x[t+1]= f(x[t])\n",
    "\n",
    "    dest = np.zeros((total_batch_count, 2, batch_size, seq_length), dtype=int)\n",
    "\n",
    "    # iterate by seq_length\n",
    "    for n in range(len(input_text)//seq_length):\n",
    "        batch_idx = n % total_batch_count\n",
    "        in_batch_idx = n // total_batch_count\n",
    "        offset = n * seq_length\n",
    "\n",
    "        # inputs\n",
    "        dest[batch_idx, 0, in_batch_idx] = input_text[offset:offset+seq_length]\n",
    "        # targets\n",
    "        dest[batch_idx, 1, in_batch_idx] = target_text[offset:offset+seq_length]\n",
    "\n",
    "    return dest\n",
    "\n",
    "\n",
    "\"\"\"\n",
    "DON'T MODIFY ANYTHING IN THIS CELL THAT IS BELOW THIS LINE\n",
    "\"\"\"\n",
    "tests.test_get_batches(get_batches)"
   ]
  },
  {
   "cell_type": "markdown",
   "metadata": {},
   "source": [
    "## Neural Network Training\n",
    "### Hyperparameters\n",
    "Tune the following parameters:\n",
    "\n",
    "- Set `num_epochs` to the number of epochs.\n",
    "- Set `batch_size` to the batch size.\n",
    "- Set `rnn_size` to the size of the RNNs.\n",
    "- Set `embed_dim` to the size of the embedding.\n",
    "- Set `seq_length` to the length of sequence.\n",
    "- Set `learning_rate` to the learning rate.\n",
    "- Set `show_every_n_batches` to the number of batches the neural network should print progress."
   ]
  },
  {
   "cell_type": "code",
   "execution_count": 26,
   "metadata": {},
   "outputs": [],
   "source": [
    "# Number of Epochs\n",
    "num_epochs = 150\n",
    "# Batch Size\n",
    "batch_size = 256\n",
    "# RNN Size\n",
    "rnn_size = 512\n",
    "# Embedding Dimension Size\n",
    "embed_dim = 200\n",
    "# Sequence Length\n",
    "seq_length = 10\n",
    "# Learning Rate\n",
    "learning_rate = 0.001\n",
    "# Show stats for every n number of batches\n",
    "show_every_n_batches = len(int_text) // (batch_size * seq_length)\n",
    "\n",
    "\"\"\"\n",
    "DON'T MODIFY ANYTHING IN THIS CELL THAT IS BELOW THIS LINE\n",
    "\"\"\"\n",
    "save_dir = './save'"
   ]
  },
  {
   "cell_type": "markdown",
   "metadata": {},
   "source": [
    "### Build the Graph\n",
    "Build the graph using the neural network you implemented."
   ]
  },
  {
   "cell_type": "code",
   "execution_count": 27,
   "metadata": {},
   "outputs": [],
   "source": [
    "\"\"\"\n",
    "DON'T MODIFY ANYTHING IN THIS CELL\n",
    "\"\"\"\n",
    "from tensorflow.contrib import seq2seq\n",
    "\n",
    "train_graph = tf.Graph()\n",
    "with train_graph.as_default():\n",
    "    vocab_size = len(int_to_vocab)\n",
    "    input_text, targets, lr = get_inputs()\n",
    "    input_data_shape = tf.shape(input_text)\n",
    "    cell, initial_state = get_init_cell(input_data_shape[0], rnn_size)\n",
    "    logits, final_state = build_nn(cell, rnn_size, input_text, vocab_size, embed_dim)\n",
    "\n",
    "    # Probabilities for generating words\n",
    "    probs = tf.nn.softmax(logits, name='probs')\n",
    "\n",
    "    # Loss function\n",
    "    cost = seq2seq.sequence_loss(\n",
    "        logits,\n",
    "        targets,\n",
    "        tf.ones([input_data_shape[0], input_data_shape[1]]))\n",
    "\n",
    "    # Optimizer\n",
    "    optimizer = tf.train.AdamOptimizer(lr)\n",
    "\n",
    "    # Gradient Clipping\n",
    "    gradients = optimizer.compute_gradients(cost)\n",
    "    capped_gradients = [(tf.clip_by_value(grad, -1., 1.), var) for grad, var in gradients if grad is not None]\n",
    "    train_op = optimizer.apply_gradients(capped_gradients)"
   ]
  },
  {
   "cell_type": "markdown",
   "metadata": {},
   "source": [
    "## Train\n",
    "Train the neural network on the preprocessed data.  If you have a hard time getting a good loss, check the [forums](https://discussions.udacity.com/) to see if anyone is having the same problem."
   ]
  },
  {
   "cell_type": "code",
   "execution_count": 28,
   "metadata": {},
   "outputs": [
    {
     "name": "stdout",
     "output_type": "stream",
     "text": [
      "Epoch   0 Batch    0/26   train_loss = 8.821\n",
      "Epoch   1 Batch    0/26   train_loss = 6.588\n",
      "Epoch   2 Batch    0/26   train_loss = 6.272\n",
      "Epoch   3 Batch    0/26   train_loss = 6.166\n",
      "Epoch   4 Batch    0/26   train_loss = 6.108\n",
      "Epoch   5 Batch    0/26   train_loss = 5.978\n",
      "Epoch   6 Batch    0/26   train_loss = 5.848\n",
      "Epoch   7 Batch    0/26   train_loss = 5.761\n",
      "Epoch   8 Batch    0/26   train_loss = 5.670\n",
      "Epoch   9 Batch    0/26   train_loss = 5.578\n",
      "Epoch  10 Batch    0/26   train_loss = 5.493\n",
      "Epoch  11 Batch    0/26   train_loss = 5.398\n",
      "Epoch  12 Batch    0/26   train_loss = 5.289\n",
      "Epoch  13 Batch    0/26   train_loss = 5.198\n",
      "Epoch  14 Batch    0/26   train_loss = 5.103\n",
      "Epoch  15 Batch    0/26   train_loss = 5.019\n",
      "Epoch  16 Batch    0/26   train_loss = 4.935\n",
      "Epoch  17 Batch    0/26   train_loss = 4.865\n",
      "Epoch  18 Batch    0/26   train_loss = 4.798\n",
      "Epoch  19 Batch    0/26   train_loss = 4.737\n",
      "Epoch  20 Batch    0/26   train_loss = 4.671\n",
      "Epoch  21 Batch    0/26   train_loss = 4.606\n",
      "Epoch  22 Batch    0/26   train_loss = 4.540\n",
      "Epoch  23 Batch    0/26   train_loss = 4.478\n",
      "Epoch  24 Batch    0/26   train_loss = 4.416\n",
      "Epoch  25 Batch    0/26   train_loss = 4.355\n",
      "Epoch  26 Batch    0/26   train_loss = 4.294\n",
      "Epoch  27 Batch    0/26   train_loss = 4.268\n",
      "Epoch  28 Batch    0/26   train_loss = 4.221\n",
      "Epoch  29 Batch    0/26   train_loss = 4.150\n",
      "Epoch  30 Batch    0/26   train_loss = 4.076\n",
      "Epoch  31 Batch    0/26   train_loss = 4.026\n",
      "Epoch  32 Batch    0/26   train_loss = 3.961\n",
      "Epoch  33 Batch    0/26   train_loss = 3.926\n",
      "Epoch  34 Batch    0/26   train_loss = 3.885\n",
      "Epoch  35 Batch    0/26   train_loss = 3.796\n",
      "Epoch  36 Batch    0/26   train_loss = 3.739\n",
      "Epoch  37 Batch    0/26   train_loss = 3.670\n",
      "Epoch  38 Batch    0/26   train_loss = 3.618\n",
      "Epoch  39 Batch    0/26   train_loss = 3.551\n",
      "Epoch  40 Batch    0/26   train_loss = 3.499\n",
      "Epoch  41 Batch    0/26   train_loss = 3.472\n",
      "Epoch  42 Batch    0/26   train_loss = 3.434\n",
      "Epoch  43 Batch    0/26   train_loss = 3.357\n",
      "Epoch  44 Batch    0/26   train_loss = 3.273\n",
      "Epoch  45 Batch    0/26   train_loss = 3.367\n",
      "Epoch  46 Batch    0/26   train_loss = 3.170\n",
      "Epoch  47 Batch    0/26   train_loss = 3.056\n",
      "Epoch  48 Batch    0/26   train_loss = 2.998\n",
      "Epoch  49 Batch    0/26   train_loss = 2.907\n",
      "Epoch  50 Batch    0/26   train_loss = 2.848\n",
      "Epoch  51 Batch    0/26   train_loss = 2.810\n",
      "Epoch  52 Batch    0/26   train_loss = 2.863\n",
      "Epoch  53 Batch    0/26   train_loss = 2.745\n",
      "Epoch  54 Batch    0/26   train_loss = 2.658\n",
      "Epoch  55 Batch    0/26   train_loss = 2.616\n",
      "Epoch  56 Batch    0/26   train_loss = 2.522\n",
      "Epoch  57 Batch    0/26   train_loss = 2.490\n",
      "Epoch  58 Batch    0/26   train_loss = 2.452\n",
      "Epoch  59 Batch    0/26   train_loss = 2.319\n",
      "Epoch  60 Batch    0/26   train_loss = 2.276\n",
      "Epoch  61 Batch    0/26   train_loss = 2.216\n",
      "Epoch  62 Batch    0/26   train_loss = 2.193\n",
      "Epoch  63 Batch    0/26   train_loss = 2.082\n",
      "Epoch  64 Batch    0/26   train_loss = 2.029\n",
      "Epoch  65 Batch    0/26   train_loss = 1.959\n",
      "Epoch  66 Batch    0/26   train_loss = 1.901\n",
      "Epoch  67 Batch    0/26   train_loss = 1.878\n",
      "Epoch  68 Batch    0/26   train_loss = 1.816\n",
      "Epoch  69 Batch    0/26   train_loss = 1.778\n",
      "Epoch  70 Batch    0/26   train_loss = 1.717\n",
      "Epoch  71 Batch    0/26   train_loss = 1.635\n",
      "Epoch  72 Batch    0/26   train_loss = 1.592\n",
      "Epoch  73 Batch    0/26   train_loss = 1.548\n",
      "Epoch  74 Batch    0/26   train_loss = 1.495\n",
      "Epoch  75 Batch    0/26   train_loss = 1.458\n",
      "Epoch  76 Batch    0/26   train_loss = 1.415\n",
      "Epoch  77 Batch    0/26   train_loss = 1.391\n",
      "Epoch  78 Batch    0/26   train_loss = 1.370\n",
      "Epoch  79 Batch    0/26   train_loss = 1.323\n",
      "Epoch  80 Batch    0/26   train_loss = 1.307\n",
      "Epoch  81 Batch    0/26   train_loss = 1.244\n",
      "Epoch  82 Batch    0/26   train_loss = 1.201\n",
      "Epoch  83 Batch    0/26   train_loss = 1.141\n",
      "Epoch  84 Batch    0/26   train_loss = 1.079\n",
      "Epoch  85 Batch    0/26   train_loss = 1.040\n",
      "Epoch  86 Batch    0/26   train_loss = 1.007\n",
      "Epoch  87 Batch    0/26   train_loss = 0.982\n",
      "Epoch  88 Batch    0/26   train_loss = 0.934\n",
      "Epoch  89 Batch    0/26   train_loss = 0.908\n",
      "Epoch  90 Batch    0/26   train_loss = 0.891\n",
      "Epoch  91 Batch    0/26   train_loss = 0.876\n",
      "Epoch  92 Batch    0/26   train_loss = 0.856\n",
      "Epoch  93 Batch    0/26   train_loss = 0.814\n",
      "Epoch  94 Batch    0/26   train_loss = 0.817\n",
      "Epoch  95 Batch    0/26   train_loss = 0.786\n",
      "Epoch  96 Batch    0/26   train_loss = 0.756\n",
      "Epoch  97 Batch    0/26   train_loss = 0.741\n",
      "Epoch  98 Batch    0/26   train_loss = 0.723\n",
      "Epoch  99 Batch    0/26   train_loss = 0.688\n",
      "Epoch 100 Batch    0/26   train_loss = 0.674\n",
      "Epoch 101 Batch    0/26   train_loss = 0.671\n",
      "Epoch 102 Batch    0/26   train_loss = 0.663\n",
      "Epoch 103 Batch    0/26   train_loss = 0.634\n",
      "Epoch 104 Batch    0/26   train_loss = 0.625\n",
      "Epoch 105 Batch    0/26   train_loss = 0.605\n",
      "Epoch 106 Batch    0/26   train_loss = 0.577\n",
      "Epoch 107 Batch    0/26   train_loss = 0.570\n",
      "Epoch 108 Batch    0/26   train_loss = 0.555\n",
      "Epoch 109 Batch    0/26   train_loss = 0.538\n",
      "Epoch 110 Batch    0/26   train_loss = 0.523\n",
      "Epoch 111 Batch    0/26   train_loss = 0.512\n",
      "Epoch 112 Batch    0/26   train_loss = 0.505\n",
      "Epoch 113 Batch    0/26   train_loss = 0.492\n",
      "Epoch 114 Batch    0/26   train_loss = 0.483\n",
      "Epoch 115 Batch    0/26   train_loss = 0.472\n",
      "Epoch 116 Batch    0/26   train_loss = 0.463\n",
      "Epoch 117 Batch    0/26   train_loss = 0.453\n",
      "Epoch 118 Batch    0/26   train_loss = 0.444\n",
      "Epoch 119 Batch    0/26   train_loss = 0.437\n",
      "Epoch 120 Batch    0/26   train_loss = 0.431\n",
      "Epoch 121 Batch    0/26   train_loss = 0.426\n",
      "Epoch 122 Batch    0/26   train_loss = 0.421\n",
      "Epoch 123 Batch    0/26   train_loss = 0.415\n",
      "Epoch 124 Batch    0/26   train_loss = 0.410\n",
      "Epoch 125 Batch    0/26   train_loss = 0.404\n",
      "Epoch 126 Batch    0/26   train_loss = 0.400\n",
      "Epoch 127 Batch    0/26   train_loss = 0.399\n",
      "Epoch 128 Batch    0/26   train_loss = 0.399\n",
      "Epoch 129 Batch    0/26   train_loss = 0.398\n",
      "Epoch 130 Batch    0/26   train_loss = 0.396\n",
      "Epoch 131 Batch    0/26   train_loss = 0.394\n",
      "Epoch 132 Batch    0/26   train_loss = 0.392\n",
      "Epoch 133 Batch    0/26   train_loss = 0.389\n",
      "Epoch 134 Batch    0/26   train_loss = 0.383\n",
      "Epoch 135 Batch    0/26   train_loss = 0.379\n",
      "Epoch 136 Batch    0/26   train_loss = 0.374\n",
      "Epoch 137 Batch    0/26   train_loss = 0.372\n",
      "Epoch 138 Batch    0/26   train_loss = 0.370\n",
      "Epoch 139 Batch    0/26   train_loss = 0.368\n",
      "Epoch 140 Batch    0/26   train_loss = 0.364\n",
      "Epoch 141 Batch    0/26   train_loss = 0.362\n",
      "Epoch 142 Batch    0/26   train_loss = 0.361\n",
      "Epoch 143 Batch    0/26   train_loss = 0.360\n",
      "Epoch 144 Batch    0/26   train_loss = 0.358\n",
      "Epoch 145 Batch    0/26   train_loss = 0.356\n",
      "Epoch 146 Batch    0/26   train_loss = 0.354\n",
      "Epoch 147 Batch    0/26   train_loss = 0.354\n",
      "Epoch 148 Batch    0/26   train_loss = 0.352\n",
      "Epoch 149 Batch    0/26   train_loss = 0.352\n",
      "Model Trained and Saved\n"
     ]
    }
   ],
   "source": [
    "\"\"\"\n",
    "DON'T MODIFY ANYTHING IN THIS CELL\n",
    "\"\"\"\n",
    "batches = get_batches(int_text, batch_size, seq_length)\n",
    "\n",
    "with tf.Session(graph=train_graph) as sess:\n",
    "    sess.run(tf.global_variables_initializer())\n",
    "\n",
    "    for epoch_i in range(num_epochs):\n",
    "        state = sess.run(initial_state, {input_text: batches[0][0]})\n",
    "\n",
    "        for batch_i, (x, y) in enumerate(batches):\n",
    "            feed = {\n",
    "                input_text: x,\n",
    "                targets: y,\n",
    "                initial_state: state,\n",
    "                lr: learning_rate}\n",
    "            train_loss, state, _ = sess.run([cost, final_state, train_op], feed)\n",
    "\n",
    "            # Show every <show_every_n_batches> batches\n",
    "            if (epoch_i * len(batches) + batch_i) % show_every_n_batches == 0:\n",
    "                print('Epoch {:>3} Batch {:>4}/{}   train_loss = {:.3f}'.format(\n",
    "                    epoch_i,\n",
    "                    batch_i,\n",
    "                    len(batches),\n",
    "                    train_loss))\n",
    "\n",
    "    # Save Model\n",
    "    saver = tf.train.Saver()\n",
    "    saver.save(sess, save_dir)\n",
    "    print('Model Trained and Saved')"
   ]
  },
  {
   "cell_type": "markdown",
   "metadata": {},
   "source": [
    "---\n",
    "# Training memo\n",
    "\n",
    "### Common parameters\n",
    "- lr = 0.001\n",
    "- embed_dim = 200\n",
    "\n",
    "### Epoch=10, Batch=256, Units=256\n",
    "- seq_len = 15, loss = 5.4\n",
    "- seq_len = 8, loss = 4.736\n",
    "- seq_len = 4, loss = 4.191\n",
    "- seq_len = 3, loss = 3.809\n",
    "- seq_len = 2, loss = 3.367 (good result, but maybe too short to memory the sequence)\n",
    "- seq_len = 1, loss = 3.584\n",
    "\n",
    "### Epoch=10, Batch=256, Units=512\n",
    "- seq_len = 3, loss = 3.063 \n",
    "- TODO seq_len = 2\n",
    "\n",
    "### Epoch=50, Batch=256, Units=512\n",
    "- seq_len = 2, loss = 2.148\n",
    "- seq_len = 3, loss = 1.492\n",
    "- seq_len = 4, loss = 1.158\n",
    "- seq_len = 8, loss = 1.297\n",
    "- seq_len = 6, loss = 0.894\n",
    "\n",
    "### Epoch=100, Batch=256, Units=512\n",
    "- seq_len = 6, loss = 0.689\n",
    "\n",
    "### Epoch=100, Batch=256, Units=512, 2-LSTM Layers\n",
    "- seq_len = 6, loss = 0.695 (saturated)\n",
    "- seq_len = 8, loss = 0.559 (seems still going down, but slowly)\n",
    "- seq_len = 10, loss = 0.767 (still goimg down at good pace)\n",
    "\n",
    "### Epoch=150\n",
    "- seq_len = 10, loss = 0.352\n",
    " - achieved enough performance on train-set. let's stop here."
   ]
  },
  {
   "cell_type": "markdown",
   "metadata": {},
   "source": [
    "## Save Parameters\n",
    "Save `seq_length` and `save_dir` for generating a new TV script."
   ]
  },
  {
   "cell_type": "code",
   "execution_count": 29,
   "metadata": {},
   "outputs": [],
   "source": [
    "\"\"\"\n",
    "DON'T MODIFY ANYTHING IN THIS CELL\n",
    "\"\"\"\n",
    "# Save parameters for checkpoint\n",
    "helper.save_params((seq_length, save_dir))"
   ]
  },
  {
   "cell_type": "markdown",
   "metadata": {},
   "source": [
    "# Checkpoint"
   ]
  },
  {
   "cell_type": "code",
   "execution_count": 1,
   "metadata": {},
   "outputs": [],
   "source": [
    "\"\"\"\n",
    "DON'T MODIFY ANYTHING IN THIS CELL\n",
    "\"\"\"\n",
    "import tensorflow as tf\n",
    "import numpy as np\n",
    "import helper\n",
    "import problem_unittests as tests\n",
    "\n",
    "_, vocab_to_int, int_to_vocab, token_dict = helper.load_preprocess()\n",
    "seq_length, load_dir = helper.load_params()"
   ]
  },
  {
   "cell_type": "markdown",
   "metadata": {},
   "source": [
    "## Implement Generate Functions\n",
    "### Get Tensors\n",
    "Get tensors from `loaded_graph` using the function [`get_tensor_by_name()`](https://www.tensorflow.org/api_docs/python/tf/Graph#get_tensor_by_name).  Get the tensors using the following names:\n",
    "- \"input:0\"\n",
    "- \"initial_state:0\"\n",
    "- \"final_state:0\"\n",
    "- \"probs:0\"\n",
    "\n",
    "Return the tensors in the following tuple `(InputTensor, InitialStateTensor, FinalStateTensor, ProbsTensor)` "
   ]
  },
  {
   "cell_type": "code",
   "execution_count": 2,
   "metadata": {},
   "outputs": [
    {
     "name": "stdout",
     "output_type": "stream",
     "text": [
      "Tests Passed\n"
     ]
    }
   ],
   "source": [
    "def get_tensors(loaded_graph):\n",
    "    \"\"\"\n",
    "    Get input, initial state, final state, and probabilities tensor from <loaded_graph>\n",
    "    :param loaded_graph: TensorFlow graph loaded from file\n",
    "    :return: Tuple (InputTensor, InitialStateTensor, FinalStateTensor, ProbsTensor)\n",
    "    \"\"\"\n",
    "    # TODO: Implement Function\n",
    "    names = ['input:0', 'initial_state:0', 'final_state:0', 'probs:0']\n",
    "    return [loaded_graph.get_tensor_by_name(name) for name in names]\n",
    "\n",
    "\n",
    "\"\"\"\n",
    "DON'T MODIFY ANYTHING IN THIS CELL THAT IS BELOW THIS LINE\n",
    "\"\"\"\n",
    "tests.test_get_tensors(get_tensors)"
   ]
  },
  {
   "cell_type": "markdown",
   "metadata": {},
   "source": [
    "### Choose Word\n",
    "Implement the `pick_word()` function to select the next word using `probabilities`."
   ]
  },
  {
   "cell_type": "code",
   "execution_count": 13,
   "metadata": {},
   "outputs": [
    {
     "name": "stdout",
     "output_type": "stream",
     "text": [
      "Tests Passed\n"
     ]
    }
   ],
   "source": [
    "def pick_word(probabilities, int_to_vocab):\n",
    "    \"\"\"\n",
    "    Pick the next word in the generated text\n",
    "    :param probabilities: Probabilites of the next word\n",
    "    :param int_to_vocab: Dictionary of word ids as the keys and words as the values\n",
    "    :return: String of the predicted word\n",
    "    \"\"\"\n",
    "    # TODO: Implement Function\n",
    "    vocab_list = [int_to_vocab[n] for n in range(len(int_to_vocab))]\n",
    "\n",
    "    # Pick the NOT probable next word with some randomness,\n",
    "    # to avoid generating same pattern of sentence.\n",
    "    #   ref - https://dl-nd.slack.com/archives/C3PJV4741/p1531816426000248\n",
    "    #   ref - https://discussions.udacity.com/t/pick-word-probabilities/235937\n",
    "    return np.random.choice(vocab_list, p=probabilities)\n",
    "\n",
    "\n",
    "\"\"\"\n",
    "DON'T MODIFY ANYTHING IN THIS CELL THAT IS BELOW THIS LINE\n",
    "\"\"\"\n",
    "tests.test_pick_word(pick_word)"
   ]
  },
  {
   "cell_type": "markdown",
   "metadata": {},
   "source": [
    "## Generate TV Script\n",
    "This will generate the TV script for you.  Set `gen_length` to the length of TV script you want to generate."
   ]
  },
  {
   "cell_type": "code",
   "execution_count": 14,
   "metadata": {},
   "outputs": [
    {
     "name": "stdout",
     "output_type": "stream",
     "text": [
      "INFO:tensorflow:Restoring parameters from ./save\n",
      "moe_szyslak: oh, right. i was thinking of another thing i can someone who works for the smurfs;\n",
      "barney_gumble: i can no!(worried)\n",
      "\n",
      "\n",
      "\n",
      "\n",
      "homer_simpson: marge, you should hate our kid again an bart... so of those love you!\n",
      "moe_szyslak:(ashamed) if i am, what are you get maher on here;\n",
      "lenny_leonard: no, don't you sorry! two and cozy.\n",
      "moe_szyslak: yeah, that is all-- and you've looked out with you drive find up we can worse than i won renee on us room that first was other days.\n",
      "homer_simpson: no kicked, moe.\n",
      "moe_szyslak: don't worry! it's probably me about ladies since people went a beer, neither.\n",
      "homer_simpson:(pleased) moe_szyslak: you go before happened; your last starts in a lot beer with my alcohol sunday it's still too clean for your other friend.\n",
      "chief_wiggum:(explaining) book, if it is. if i did you dr. show it--\n",
      "bart_simpson:(gasps) it's true late.\n"
     ]
    }
   ],
   "source": [
    "gen_length = 200\n",
    "# homer_simpson, moe_szyslak, or Barney_Gumble\n",
    "prime_word = 'moe_szyslak'\n",
    "\n",
    "\"\"\"\n",
    "DON'T MODIFY ANYTHING IN THIS CELL THAT IS BELOW THIS LINE\n",
    "\"\"\"\n",
    "loaded_graph = tf.Graph()\n",
    "with tf.Session(graph=loaded_graph) as sess:\n",
    "    # Load saved model\n",
    "    loader = tf.train.import_meta_graph(load_dir + '.meta')\n",
    "    loader.restore(sess, load_dir)\n",
    "\n",
    "    # Get Tensors from loaded model\n",
    "    input_text, initial_state, final_state, probs = get_tensors(loaded_graph)\n",
    "\n",
    "    # Sentences generation setup\n",
    "    gen_sentences = [prime_word + ':']\n",
    "    prev_state = sess.run(initial_state, {input_text: np.array([[1]])})\n",
    "\n",
    "    # Generate sentences\n",
    "    for n in range(gen_length):\n",
    "        # Dynamic Input\n",
    "        dyn_input = [[vocab_to_int[word] for word in gen_sentences[-seq_length:]]]\n",
    "        dyn_seq_length = len(dyn_input[0])\n",
    "\n",
    "        # Get Prediction\n",
    "        probabilities, prev_state = sess.run(\n",
    "            [probs, final_state],\n",
    "            {input_text: dyn_input, initial_state: prev_state})\n",
    "        \n",
    "        pred_word = pick_word(probabilities[0][dyn_seq_length-1], int_to_vocab)\n",
    "\n",
    "        gen_sentences.append(pred_word)\n",
    "    \n",
    "    # Remove tokens\n",
    "    tv_script = ' '.join(gen_sentences)\n",
    "    for key, token in token_dict.items():\n",
    "        ending = ' ' if key in ['\\n', '(', '\"'] else ''\n",
    "        tv_script = tv_script.replace(' ' + token.lower(), key)\n",
    "    tv_script = tv_script.replace('\\n ', '\\n')\n",
    "    tv_script = tv_script.replace('( ', '(')\n",
    "        \n",
    "    print(tv_script)"
   ]
  },
  {
   "cell_type": "markdown",
   "metadata": {},
   "source": [
    "# The TV Script is Nonsensical\n",
    "It's ok if the TV script doesn't make any sense.  We trained on less than a megabyte of text.  In order to get good results, you'll have to use a smaller vocabulary or get more data.  Luckily there's more data!  As we mentioned in the beggining of this project, this is a subset of [another dataset](https://www.kaggle.com/wcukierski/the-simpsons-by-the-data).  We didn't have you train on all the data, because that would take too long.  However, you are free to train your neural network on all the data.  After you complete the project, of course.\n",
    "# Submitting This Project\n",
    "When submitting this project, make sure to run all the cells before saving the notebook. Save the notebook file as \"dlnd_tv_script_generation.ipynb\" and save it as a HTML file under \"File\" -> \"Download as\". Include the \"helper.py\" and \"problem_unittests.py\" files in your submission."
   ]
  },
  {
   "cell_type": "code",
   "execution_count": null,
   "metadata": {},
   "outputs": [],
   "source": []
  }
 ],
 "metadata": {
  "kernelspec": {
   "display_name": "Python 3",
   "language": "python",
   "name": "python3"
  },
  "language_info": {
   "codemirror_mode": {
    "name": "ipython",
    "version": 3
   },
   "file_extension": ".py",
   "mimetype": "text/x-python",
   "name": "python",
   "nbconvert_exporter": "python",
   "pygments_lexer": "ipython3",
   "version": "3.6.3"
  },
  "widgets": {
   "state": {},
   "version": "1.1.2"
  }
 },
 "nbformat": 4,
 "nbformat_minor": 1
}
